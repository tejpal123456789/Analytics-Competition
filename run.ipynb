{
  "nbformat": 4,
  "nbformat_minor": 0,
  "metadata": {
    "colab": {
      "name": "run.ipynb",
      "provenance": [],
      "mount_file_id": "1MqABLLedzZiS2cziQTyg8p7c6ta90xyB",
      "authorship_tag": "ABX9TyMZ2f7IXu4XAm45GW2Jd8IX",
      "include_colab_link": true
    },
    "kernelspec": {
      "name": "python3",
      "display_name": "Python 3"
    },
    "language_info": {
      "name": "python"
    }
  },
  "cells": [
    {
      "cell_type": "markdown",
      "metadata": {
        "id": "view-in-github",
        "colab_type": "text"
      },
      "source": [
        "<a href=\"https://colab.research.google.com/github/tejpal123456789/Analytics-Competition/blob/main/run.ipynb\" target=\"_parent\"><img src=\"https://colab.research.google.com/assets/colab-badge.svg\" alt=\"Open In Colab\"/></a>"
      ]
    },
    {
      "cell_type": "code",
      "metadata": {
        "id": "HrRlTcZRApVY"
      },
      "source": [
        "import keras\n",
        "import pandas as pd\n",
        "import numpy as np\n",
        "import tensorflow\n",
        "from tensorflow.keras.models import Sequential\n",
        "from tensorflow.keras.layers import Dense,Activation,Flatten\n",
        "from tensorflow.keras.optimizers import Adam\n",
        "from tensorflow.keras.losses import BinaryCrossentropy\n",
        "from tensorflow.keras.models import Model,load_model\n",
        "from tensorflow.keras.applications.resnet50 import ResNet50,preprocess_input\n",
        "from keras.preprocessing import image\n",
        "\n",
        "model1=keras.models.load_model('/content/drive/MyDrive/Anaytics Compi/ann.h5')\n",
        "model=ResNet50( weights='imagenet',input_shape=(224,224,3))\n",
        "model_new=Model(model.input,model.layers[-2].output)"
      ],
      "execution_count": 17,
      "outputs": []
    },
    {
      "cell_type": "code",
      "metadata": {
        "colab": {
          "base_uri": "https://localhost:8080/"
        },
        "id": "XnZQLf30Amkf",
        "outputId": "cd6930a5-bf10-47b6-8982-86ef23ecabd7"
      },
      "source": [
        "def prediction(input1,input2):\n",
        "\n",
        "    def image_preprocessed(input):\n",
        "     img=image.load_img(input,target_size=(224,224,3))\n",
        "     img=image.img_to_array(img)\n",
        "     img=np.expand_dims(img,axis=0)\n",
        "     img=preprocess_input(img)\n",
        "     return img \n",
        "\n",
        "    def feature_extractor(input):\n",
        "     img=image_preprocessed(input)\n",
        "     feature_vector=model_new.predict(img)\n",
        "     feature_vector=feature_vector.reshape(feature_vector.shape[1],)\n",
        "     return feature_vector\n",
        "   \n",
        "    fea1=feature_extractor(input1)\n",
        "    fea2=feature_extractor(input2)\n",
        "\n",
        "    #combined_feature=np.concatenate((fea1,fea2),axis=0).reshape(-1,1)\n",
        "    \n",
        "    combined_feature= np.add(fea1,fea2)\n",
        "    combined_feature=np.array(combined_feature)\n",
        "    f1=np.array(combined_feature).reshape(1,2048)\n",
        "\n",
        "    prediction=model1.predict(f1)\n",
        "    #prediction=model1.predict(combined_feature)\n",
        "\n",
        "    return prediction\n",
        "   \n",
        "output=prediction('/content/drive/MyDrive/Anaytics Compi/Rohit Photos/rohit1.jpg','/content/drive/MyDrive/Anaytics Compi/Rohit Photos/rohit2.jpg')\n",
        "\n",
        "output"
      ],
      "execution_count": 22,
      "outputs": [
        {
          "output_type": "execute_result",
          "data": {
            "text/plain": [
              "array([[0.00065494]], dtype=float32)"
            ]
          },
          "metadata": {},
          "execution_count": 22
        }
      ]
    },
    {
      "cell_type": "code",
      "metadata": {
        "colab": {
          "base_uri": "https://localhost:8080/"
        },
        "id": "WWGPW8IiJV2_",
        "outputId": "1aee5db7-4903-40e6-8128-3edce0c75817"
      },
      "source": [
        "if output[0][0] < 0.5:\n",
        "    print(0)\n",
        "        \n",
        "        \n",
        "elif output[0][0]>=0.5:\n",
        "         print(1)"
      ],
      "execution_count": 24,
      "outputs": [
        {
          "output_type": "stream",
          "name": "stdout",
          "text": [
            "0\n"
          ]
        }
      ]
    }
  ]
}